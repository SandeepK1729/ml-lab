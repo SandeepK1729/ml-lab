{
 "cells": [
  {
   "cell_type": "code",
   "execution_count": 33,
   "id": "a95e6164",
   "metadata": {},
   "outputs": [],
   "source": [
    "import numpy as np\n",
    "import pandas as pd\n",
    "from sklearn.datasets import load_iris\n",
    "from sklearn.cluster import AgglomerativeClustering\n",
    "from scipy.cluster.hierarchy import linkage, dendrogram\n",
    "from sklearn import preprocessing\n",
    "import matplotlib.pyplot as plt"
   ]
  },
  {
   "cell_type": "code",
   "execution_count": 4,
   "id": "439a4950",
   "metadata": {},
   "outputs": [],
   "source": [
    "iris = load_iris()"
   ]
  },
  {
   "cell_type": "code",
   "execution_count": 5,
   "id": "8d8a3755",
   "metadata": {},
   "outputs": [],
   "source": [
    "# ward linkage\n",
    "ward = AgglomerativeClustering(n_clusters = 3)\n",
    "ward_pred = ward.fit_predict(iris.data)"
   ]
  },
  {
   "cell_type": "code",
   "execution_count": 7,
   "id": "51413901",
   "metadata": {},
   "outputs": [],
   "source": [
    "# complete linkage \n",
    "complete = AgglomerativeClustering(n_clusters = 3, linkage = \"complete\")\n",
    "complete_pred = complete.fit_predict(iris.data)"
   ]
  },
  {
   "cell_type": "code",
   "execution_count": 8,
   "id": "166b0e6b",
   "metadata": {},
   "outputs": [],
   "source": [
    "# avg linkage \n",
    "avg = AgglomerativeClustering(n_clusters = 3, linkage = \"avg\")\n",
    "avg_pred = complete.fit_predict(iris.data)"
   ]
  },
  {
   "cell_type": "code",
   "execution_count": 17,
   "id": "a14532fc",
   "metadata": {},
   "outputs": [
    {
     "name": "stdout",
     "output_type": "stream",
     "text": [
      "Scores : \n",
      "\tWard : 0.7311985567707746\n",
      "\tComplete : 0.6422512518362898\n",
      "\tAverage : 0.6422512518362898\n"
     ]
    }
   ],
   "source": [
    "from sklearn.metrics import adjusted_rand_score\n",
    "\n",
    "ward_rand_score = adjusted_rand_score(iris.target, ward_pred)\n",
    "complete_rand_score = adjusted_rand_score(iris.target, complete_pred)\n",
    "avg_rand_score = adjusted_rand_score(iris.target, avg_pred)\n",
    "\n",
    "print(f\"Scores : \\n\\tWard : {ward_rand_score}\\n\\tComplete : {complete_rand_score}\\n\\tAverage : {avg_rand_score}\")"
   ]
  },
  {
   "cell_type": "code",
   "execution_count": 21,
   "id": "0c612fdc",
   "metadata": {},
   "outputs": [],
   "source": [
    "# normalizing the iris data\n",
    "normalized_X = preprocessing.normalize(iris.data)"
   ]
  },
  {
   "cell_type": "code",
   "execution_count": 28,
   "id": "f8536cd9",
   "metadata": {},
   "outputs": [],
   "source": [
    "linkage_type = \"ward\"\n",
    "\n",
    "linkage_matrix = linkage(normalized_X, linkage_type)"
   ]
  },
  {
   "cell_type": "code",
   "execution_count": 35,
   "id": "d8603ded",
   "metadata": {},
   "outputs": [
    {
     "data": {
      "text/plain": [
       "<Figure size 1584x1296 with 0 Axes>"
      ]
     },
     "metadata": {},
     "output_type": "display_data"
    }
   ],
   "source": [
    "plt.figure(figsize = (22, 18))\n",
    "plt.show()"
   ]
  }
 ],
 "metadata": {
  "kernelspec": {
   "display_name": "Python 3 (ipykernel)",
   "language": "python",
   "name": "python3"
  },
  "language_info": {
   "codemirror_mode": {
    "name": "ipython",
    "version": 3
   },
   "file_extension": ".py",
   "mimetype": "text/x-python",
   "name": "python",
   "nbconvert_exporter": "python",
   "pygments_lexer": "ipython3",
   "version": "3.7.9"
  }
 },
 "nbformat": 4,
 "nbformat_minor": 5
}

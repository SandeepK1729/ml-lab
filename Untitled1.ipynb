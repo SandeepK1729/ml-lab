{
 "cells": [
  {
   "cell_type": "code",
   "execution_count": 2,
   "id": "b4e53cf8-000d-4581-ae62-7b8c8351a7c7",
   "metadata": {},
   "outputs": [
    {
     "data": {
      "text/plain": [
       "'\\n    P(A) = 0.1  --> Liver Disease\\n    P(X) = 0.05 --> Alcoholic\\n    P(X / A) = 0.07\\n    \\n          P(A & B) = P(A / B) / P(B) = P(B / A) / P(A)\\n    P(A / X) = 0.07 * 0.1 / 0.05 = 0.14\\n    \\n    \\n    P(A) = 0.1\\n    P(X) = 0.05\\n    P(X / A) = 0.08\\n    P(A / X) = P(X / A) * P(A) / P(X)\\n    \\n    \\n    3.\\n    P(A) = 0.01\\n    P(X / A) = 0.9\\n    \\n    TRUE POSITIVES OF mamm\\n    0.9 * 0.92 = 0.828\\n    \\n    P(X) = 0.92\\n    P(A / X) = 0.9 * 0.01 / 0.92 = 0.097\\n    \\n    4. \\n    \\n    \\n'"
      ]
     },
     "execution_count": 2,
     "metadata": {},
     "output_type": "execute_result"
    }
   ],
   "source": [
    "'''\n",
    "    P(A) = 0.1  --> Liver Disease\n",
    "    P(X) = 0.05 --> Alcoholic\n",
    "    P(X / A) = 0.07\n",
    "    \n",
    "          P(A & B) = P(A / B) / P(B) = P(B / A) / P(A)\n",
    "    P(A / X) = 0.07 * 0.1 / 0.05 = 0.14\n",
    "    \n",
    "    \n",
    "    P(A) = 0.1\n",
    "    P(X) = 0.05\n",
    "    P(X / A) = 0.08\n",
    "    P(A / X) = P(X / A) * P(A) / P(X)\n",
    "    \n",
    "    \n",
    "    3.\n",
    "    P(A) = 0.01\n",
    "    P(X / A) = 0.9\n",
    "    \n",
    "    TRUE POSITIVES OF mamm\n",
    "    0.9 * 0.92 = 0.828\n",
    "    \n",
    "    P(X) = 0.92\n",
    "    P(A / X) = 0.9 * 0.01 / 0.92 = 0.097\n",
    "    \n",
    "    4. \n",
    "    \n",
    "    \n",
    "'''\n"
   ]
  },
  {
   "cell_type": "code",
   "execution_count": 6,
   "id": "e6d83742-8718-4fe1-9c38-588b64ce8ea9",
   "metadata": {},
   "outputs": [],
   "source": [
    "import pandas as pd \n",
    "import numpy as np\n",
    "import math\n",
    "import operator\n",
    "from sklearn.neighbors import KNeighborsClassifier\n",
    "from sklearn import datasets\n",
    "from sklearn.model_selection import train_test_split\n",
    "from sklearn.metrics import accuracy_score\n",
    "from sklearn.metrics import classification_report\n",
    "import seaborn as sns\n",
    "from sklearn.svm import SVC\n",
    "from sklearn.metrics import confusion_matrix"
   ]
  },
  {
   "cell_type": "code",
   "execution_count": 7,
   "id": "5624eedf-fea3-46b0-91c7-effd78b42d73",
   "metadata": {},
   "outputs": [],
   "source": [
    "iris=datasets.load_iris()"
   ]
  },
  {
   "cell_type": "code",
   "execution_count": 8,
   "id": "0db3edbe-c4eb-408e-a1a7-47d0c234dedb",
   "metadata": {},
   "outputs": [
    {
     "name": "stdout",
     "output_type": "stream",
     "text": [
      "Feature:  ['sepal length (cm)', 'sepal width (cm)', 'petal length (cm)', 'petal width (cm)']\n"
     ]
    }
   ],
   "source": [
    "print(\"Feature: \",iris.feature_names)"
   ]
  },
  {
   "cell_type": "code",
   "execution_count": 9,
   "id": "f97c4a01-2f25-4150-8e63-7bff35c614fe",
   "metadata": {},
   "outputs": [
    {
     "name": "stdout",
     "output_type": "stream",
     "text": [
      "Labels:  ['setosa' 'versicolor' 'virginica']\n"
     ]
    }
   ],
   "source": [
    "print(\"Labels: \",iris.target_names)"
   ]
  },
  {
   "cell_type": "code",
   "execution_count": 12,
   "id": "e03a9403-7529-4d66-9c22-5dd344893e5b",
   "metadata": {},
   "outputs": [
    {
     "ename": "SyntaxError",
     "evalue": "invalid syntax (<ipython-input-12-5942eeb564dd>, line 11)",
     "output_type": "error",
     "traceback": [
      "\u001b[0;36m  File \u001b[0;32m\"<ipython-input-12-5942eeb564dd>\"\u001b[0;36m, line \u001b[0;32m11\u001b[0m\n\u001b[0;31m    value.append(accuracy)t=int(input())\u001b[0m\n\u001b[0m                          ^\u001b[0m\n\u001b[0;31mSyntaxError\u001b[0m\u001b[0;31m:\u001b[0m invalid syntax\n"
     ]
    }
   ],
   "source": [
    "import matplotlib.pyplot as plt\n",
    "comb=[]\n",
    "value=[]\n",
    "for i in range(5):\n",
    "    X_train,X_test,y_train,y_test = train_test_split(iris.data,iris.target,test_size=0.25)\n",
    "    knn = KNeighborsClassifier(n_neighbors=4)\n",
    "    knn.fit(X_train,y_train)\n",
    "    y_pred = knn.predict(X_test)\n",
    "    accuracy=metrics.accuracy_score(y_test,y_pred)\n",
    "    comb.append('comb'+str(i))\n",
    "    value.append(accuracy)t=int(input())\n",
    "for i in range:\n",
    "    a,b,x,y=map(int,input().split(''))\n",
    "    l=[a,b]\n",
    "    l1=[x,y]\n",
    "    \n",
    "    if l1[0] in l and l1[1] in l:\n",
    "        print(0)\n",
    "    elif l1[0] in l or l1[1] in l:\n",
    "        print(1)\n",
    "    else:\n",
    "        print(2)\n",
    "\n",
    "    print(\"Accuracy:\",metrics.accuracy_score(y_test,y_pred))\n",
    "    print(len(value))\n",
    "    \n",
    "value.append((sum(value))/len(value))\n",
    "print(\"average of the model\",(sum(value))/len(value))\n",
    "plt.bar([0,1,2,3,4,5],value)\n",
    "plt.show()\n",
    "print(y_test)\n",
    "print(y_pred)"
   ]
  },
  {
   "cell_type": "code",
   "execution_count": null,
   "id": "8e73989c-deb2-4cf6-b544-fdc6c5f26e04",
   "metadata": {},
   "outputs": [],
   "source": [
    "clf = SVC(kernel = 'linear')"
   ]
  }
 ],
 "metadata": {
  "kernelspec": {
   "display_name": "Python 3",
   "language": "python",
   "name": "python3"
  },
  "language_info": {
   "codemirror_mode": {
    "name": "ipython",
    "version": 3
   },
   "file_extension": ".py",
   "mimetype": "text/x-python",
   "name": "python",
   "nbconvert_exporter": "python",
   "pygments_lexer": "ipython3",
   "version": "3.8.8"
  }
 },
 "nbformat": 4,
 "nbformat_minor": 5
}
